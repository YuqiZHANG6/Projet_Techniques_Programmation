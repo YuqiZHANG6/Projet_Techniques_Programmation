{
 "cells": [
  {
   "cell_type": "code",
   "execution_count": null,
   "id": "286b42cf",
   "metadata": {},
   "outputs": [],
   "source": [
    "# Import essential packages\n",
    "from selenium import webdriver\n",
    "from bs4 import BeautifulSoup\n",
    "import pandas as pd\n",
    "\n",
    "# Import custom functions from web_scraper.ipynb\n",
    "from web_scraper import load_page\n",
    "from web_scraper import go_next\n",
    "\n",
    "# Import custom functions from Clean_data.ipynb\n",
    "from Clean_data import process_with_pandas\n",
    "from Clean_data import process_data\n",
    "\n",
    "# Initial Setup\n",
    "base_url=\"https://hobbii.fr/fils\"\n",
    "base_page=1\n",
    "driver = webdriver.Chrome(executable_path=\"Users/luciezhang/Téléchargements/chromedriver_mac64/chromedriver.exe\")\n",
    "storage_pd = list()\n",
    "\n",
    "# Loop through available pages and store results\n",
    "while True:\n",
    "    soup=load_page(base_page)\n",
    "    process_with_pandas(soup,storage_pd)\n",
    "    print(\"page number \"+str(base_page)+\" has finished\\n\")\n",
    "    base_page=base_page+1\n",
    "\n",
    "    if not go_next(soup):\n",
    "        break\n",
    "\n",
    "# Clean data\n",
    "df = pd.DataFrame(storage_pd)\n",
    "df = process_data(df)\n",
    "\n",
    "# Consult the user's requirements and provide the corresponding results\n",
    "\n",
    "# find product with good rating\n",
    "user_rating = float(input(\"Enter a minimum rating: \"))\n",
    "print(\"Showing products with rating greater than or equal to\" + user_rating)\n",
    "print(df[df['rating'] >= float(user_rating)].sort_values(by='rating', ascending=False))\n",
    "\n",
    "# find a product with good discount\n",
    "user_discount = float(input(\"Enter a minimum discount: \"))\n",
    "print(\"Showing products with discount greater than or equal to\" + user_discount)\n",
    "print(df[df['discounted'] >= float(user_discount)].sort_values(by='discounted', ascending=False))\n",
    "\n",
    "# find product with low price\n",
    "user_price = float(input(\"Enter a maximum price: \"))\n",
    "print(\"Showing products with price lower than or equal to\" + user_price)\n",
    "print(df[df['price'] <= float(user_price)].sort_values(by='price', ascending=True))\n",
    "\n",
    "# show number of colors available for each product\n",
    "print(df[['name', 'num_colors']])\n",
    "\n",
    "driver.quit()"
   ]
  }
 ],
 "metadata": {
  "kernelspec": {
   "display_name": "Python 3 (ipykernel)",
   "language": "python",
   "name": "python3"
  },
  "language_info": {
   "codemirror_mode": {
    "name": "ipython",
    "version": 3
   },
   "file_extension": ".py",
   "mimetype": "text/x-python",
   "name": "python",
   "nbconvert_exporter": "python",
   "pygments_lexer": "ipython3",
   "version": "3.9.13"
  }
 },
 "nbformat": 4,
 "nbformat_minor": 5
}
