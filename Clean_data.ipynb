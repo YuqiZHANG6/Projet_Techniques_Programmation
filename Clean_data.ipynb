{
 "cells": [
  {
   "cell_type": "code",
   "execution_count": null,
   "id": "134bf57b",
   "metadata": {},
   "outputs": [],
   "source": [
    "# Import essential packages\n",
    "from bs4 import BeautifulSoup\n",
    "import pandas\n",
    "\n",
    "# Clean and store data\n",
    "def process_with_pandas(soup_obj: BeautifulSoup, store: list):\n",
    "    \n",
    "    items = soup_obj.find_all(name='div', attrs={'class': 'caption'})\n",
    "\n",
    "    for item in items:\n",
    "        if item.find(class_='product-rating') is not None:\n",
    "            rating = float(item.find(class_='product-rating').get_text())\n",
    "        else:\n",
    "            rating = 0.0  # refers to no rating\n",
    "        info_dict = {'name': item.h3.get_text(), 'html_link': item.h3.a.attrs['href'],\n",
    "                     'price': item.find(class_=\"price\").get_text(), 'rating': rating}\n",
    "\n",
    "        # Navigate to the product page and extract the color information\n",
    "        driver.get(info_dict['html_link'])\n",
    "        sleep(2.5)\n",
    "        product_soup = BeautifulSoup(driver.page_source, 'lxml')\n",
    "        color_div = product_soup.find(name='div', attrs={'class': 'option-image'})\n",
    "        if color_div is not None:\n",
    "            color_links = color_div.find_all(name='data-v-99597412')\n",
    "            colors = [link.get_text() for link in color_links]\n",
    "            info_dict['colors'] = colors\n",
    "        else:\n",
    "            info_dict['colors'] = []\n",
    "\n",
    "        store.append(info_dict)\n",
    "        \n",
    "\n",
    "def process_data(df):\n",
    "    # process the price string to float value of price\n",
    "    # for those having a discount, calculate discount percentage\n",
    "    for i in range(0, len(df)):\n",
    "        s = df['price'][i]\n",
    "        if s[2] == 'p':\n",
    "            df.loc[i, 'price'] = float(s[12:-2].replace(',', '.'))\n",
    "            df.loc[i, 'discounted'] = 0.0\n",
    "        else:\n",
    "            df.loc[i, 'price'] = float(s.split(' €')[0].replace(',', '.'))\n",
    "            if len(s.split(' €')) > 2:\n",
    "                df.loc[i, 'discounted'] = 1 - float(s.split(' €')[0].replace(',', '.')) / float(\n",
    "                    s.split(' €')[1].replace(',', '.'))\n",
    "            else:\n",
    "                df.loc[i, 'discounted'] = 0.0\n",
    "\n",
    "df = df.round({'discounted': 2})\n",
    "\n",
    "    # Count the number of colors available for each product\n",
    "    df['num_colors'] = df['colors'].apply(lambda x: len(x))\n",
    "\n",
    "    return df\n"
   ]
  }
 ],
 "metadata": {
  "kernelspec": {
   "display_name": "Python 3 (ipykernel)",
   "language": "python",
   "name": "python3"
  },
  "language_info": {
   "codemirror_mode": {
    "name": "ipython",
    "version": 3
   },
   "file_extension": ".py",
   "mimetype": "text/x-python",
   "name": "python",
   "nbconvert_exporter": "python",
   "pygments_lexer": "ipython3",
   "version": "3.9.13"
  }
 },
 "nbformat": 4,
 "nbformat_minor": 5
}
