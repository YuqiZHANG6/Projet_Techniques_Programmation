{
 "cells": [
  {
   "cell_type": "code",
   "execution_count": null,
   "id": "2714fd5d",
   "metadata": {},
   "outputs": [],
   "source": [
    "# Import essential packages\n",
    "from selenium import webdriver\n",
    "from selenium.webdriver.common.by import By\n",
    "from time import sleep\n",
    "from bs4 import BeautifulSoup\n",
    "import pandas\n",
    "\n",
    "\n",
    "# Get html source from certain web page\n",
    "def load_page(page_num: int):\n",
    "    driver.get(url=base_url + \"?page=\" + str(page_num))\n",
    "    sleep(2.5)\n",
    "    soup_obj = BeautifulSoup(driver.page_source, 'lxml')\n",
    "    return soup_obj\n",
    "\n",
    "\n",
    "# Detect if there's a next page\n",
    "def go_next(soup_obj: BeautifulSoup):\n",
    "    next_page_disabled = soup_obj.find(name='a', class_='glyphicon glyphicon-menu-right').attrs.get('disabled')\n",
    "    if next_page_disabled == 'false':\n",
    "        return True\n",
    "    else:\n",
    "        return False"
   ]
  }
 ],
 "metadata": {
  "kernelspec": {
   "display_name": "Python 3 (ipykernel)",
   "language": "python",
   "name": "python3"
  },
  "language_info": {
   "codemirror_mode": {
    "name": "ipython",
    "version": 3
   },
   "file_extension": ".py",
   "mimetype": "text/x-python",
   "name": "python",
   "nbconvert_exporter": "python",
   "pygments_lexer": "ipython3",
   "version": "3.9.13"
  }
 },
 "nbformat": 4,
 "nbformat_minor": 5
}
